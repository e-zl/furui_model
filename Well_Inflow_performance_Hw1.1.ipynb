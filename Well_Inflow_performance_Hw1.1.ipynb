{
 "cells": [
  {
   "cell_type": "markdown",
   "metadata": {},
   "source": [
    "## Horizontal, Multilateral and Intelligent Wells \n",
    "#### Project 1.1 \n",
    "#### Author:  <span style=\"color:blue\"> Enrique Losoya - 01/31/2018 </span>.\n",
    "###### Assigment 1 \n",
    "######  Program Furui's model for Horizontal Well performance "
   ]
  },
  {
   "cell_type": "markdown",
   "metadata": {},
   "source": [
    "\n",
    "For an anisotropic reservoir the Furui equation is given by: "
   ]
  },
  {
   "cell_type": "code",
   "execution_count": 1,
   "metadata": {},
   "outputs": [],
   "source": [
    "from IPython.display import Image\n",
    "Image(\"images/furui.jpg\") "
   ]
  },
  {
   "cell_type": "markdown",
   "metadata": {},
   "source": [
    "<h5><center>Furui representatio of flow in a rectangular shaped reservoir - From Furui et at. (2003) </center></h5> "
   ]
  },
  {
   "cell_type": "markdown",
   "metadata": {},
   "source": [
    "Furui well performance equation is given by: "
   ]
  },
  {
   "cell_type": "markdown",
   "metadata": {
    "collapsed": true
   },
   "source": [
    "$$q =\\frac{ k L (P_e - P_{wf} ) }{ 141.2 \\mu B_o ln [\\frac{h I_{ani} } { r_w( I_{ani} + 1) }] + \\frac{\\pi y_b}{h I_{ani} } - 1.224 + s}  $$"
   ]
  },
  {
   "cell_type": "markdown",
   "metadata": {},
   "source": [
    "Where : \n",
    "\n",
    "| Symbol    | Meaning                     | Units       |\n",
    "|---------|-----------------------------|-------------|\n",
    "| k         | Permeability                | md          |\n",
    "| L         | Length                      | ft          |\n",
    "| h         | Reservoir thickness         | ft          |\n",
    "| $P_e$     | Boundary reservoir pressure | psia        |\n",
    "| $P_{wf}$  | Wellbore pressure           | psia        |\n",
    "| $\\mu$     | Viscosity                   | cp          |\n",
    "| $B_o$     | Oil gas ratio               | STB/RSTB    |\n",
    "| $I_{ani}$ | Anisotropic permeability    |             |\n",
    "| $R_w$     | Wellbore radius             | ft          |\n",
    "| s         | Skin factor                 |             |\n",
    "| q         | Flow rate                   | stb/day/psi |"
   ]
  },
  {
   "cell_type": "markdown",
   "metadata": {},
   "source": [
    "<h4><center>Typical Units for Production Engineering Calculations</center></h4><table>\n",
    "\n",
    "| Variable        | Oilfield Unit | SI Unit | Conversion (Multiply SI Unit) |\n",
    "|-----------------|---------------|---------|-------------------------------|\n",
    "| Area            | acre          | m2      | 2.475 × 10–4                  |\n",
    "| Compressibility | psi–1         | Pa–1    | 6897                          |\n",
    "| Length          | ft            | m       | 3.28                          |\n",
    "| Permeability    | md            | m2      | 1.01 × 1015                   |\n",
    "| Pressure        | psi           | Pa      | 1.45 × 10–4                   |\n",
    "| Rate (oil)      | STB/d         | m3/s    | 5.434 × 105                   |\n",
    "| Rate (gas)      | Mscf/d        | m3/s    | 3049                          |\n",
    "| Viscosity       | cp            | Pa-s    | 1000                          |"
   ]
  },
  {
   "cell_type": "markdown",
   "metadata": {},
   "source": [
    "The well variables are defined in a text file called \"well_config.ini\" in the working directory. You could change them there or use option b to input them directly by selecting "
   ]
  },
  {
   "cell_type": "code",
   "execution_count": 2,
   "metadata": {},
   "outputs": [
    {
     "data": {
      "text/html": [
       "\n",
       "    <div class=\"bk-root\">\n",
       "        <a href=\"https://bokeh.pydata.org\" target=\"_blank\" class=\"bk-logo bk-logo-small bk-logo-notebook\"></a>\n",
       "        <span id=\"954c5295-4a54-484e-9edb-de7f38f7c04c\">Loading BokehJS ...</span>\n",
       "    </div>"
      ]
     },
     "metadata": {},
     "output_type": "display_data"
    },
    {
     "data": {
      "application/javascript": [
       "\n",
       "(function(root) {\n",
       "  function now() {\n",
       "    return new Date();\n",
       "  }\n",
       "\n",
       "  var force = true;\n",
       "\n",
       "  if (typeof (root._bokeh_onload_callbacks) === \"undefined\" || force === true) {\n",
       "    root._bokeh_onload_callbacks = [];\n",
       "    root._bokeh_is_loading = undefined;\n",
       "  }\n",
       "\n",
       "  var JS_MIME_TYPE = 'application/javascript';\n",
       "  var HTML_MIME_TYPE = 'text/html';\n",
       "  var EXEC_MIME_TYPE = 'application/vnd.bokehjs_exec.v0+json';\n",
       "  var CLASS_NAME = 'output_bokeh rendered_html';\n",
       "\n",
       "  /**\n",
       "   * Render data to the DOM node\n",
       "   */\n",
       "  function render(props, node) {\n",
       "    var script = document.createElement(\"script\");\n",
       "    node.appendChild(script);\n",
       "  }\n",
       "\n",
       "  /**\n",
       "   * Handle when an output is cleared or removed\n",
       "   */\n",
       "  function handleClearOutput(event, handle) {\n",
       "    var cell = handle.cell;\n",
       "\n",
       "    var id = cell.output_area._bokeh_element_id;\n",
       "    var server_id = cell.output_area._bokeh_server_id;\n",
       "    // Clean up Bokeh references\n",
       "    if (id !== undefined) {\n",
       "      Bokeh.index[id].model.document.clear();\n",
       "      delete Bokeh.index[id];\n",
       "    }\n",
       "\n",
       "    if (server_id !== undefined) {\n",
       "      // Clean up Bokeh references\n",
       "      var cmd = \"from bokeh.io.state import curstate; print(curstate().uuid_to_server['\" + server_id + \"'].get_sessions()[0].document.roots[0]._id)\";\n",
       "      cell.notebook.kernel.execute(cmd, {\n",
       "        iopub: {\n",
       "          output: function(msg) {\n",
       "            var element_id = msg.content.text.trim();\n",
       "            Bokeh.index[element_id].model.document.clear();\n",
       "            delete Bokeh.index[element_id];\n",
       "          }\n",
       "        }\n",
       "      });\n",
       "      // Destroy server and session\n",
       "      var cmd = \"import bokeh.io.notebook as ion; ion.destroy_server('\" + server_id + \"')\";\n",
       "      cell.notebook.kernel.execute(cmd);\n",
       "    }\n",
       "  }\n",
       "\n",
       "  /**\n",
       "   * Handle when a new output is added\n",
       "   */\n",
       "  function handleAddOutput(event, handle) {\n",
       "    var output_area = handle.output_area;\n",
       "    var output = handle.output;\n",
       "\n",
       "    // limit handleAddOutput to display_data with EXEC_MIME_TYPE content only\n",
       "    if ((output.output_type != \"display_data\") || (!output.data.hasOwnProperty(EXEC_MIME_TYPE))) {\n",
       "      return\n",
       "    }\n",
       "\n",
       "    var toinsert = output_area.element.find(`.${CLASS_NAME.split(' ')[0]}`);\n",
       "\n",
       "    if (output.metadata[EXEC_MIME_TYPE][\"id\"] !== undefined) {\n",
       "      toinsert[0].firstChild.textContent = output.data[JS_MIME_TYPE];\n",
       "      // store reference to embed id on output_area\n",
       "      output_area._bokeh_element_id = output.metadata[EXEC_MIME_TYPE][\"id\"];\n",
       "    }\n",
       "    if (output.metadata[EXEC_MIME_TYPE][\"server_id\"] !== undefined) {\n",
       "      var bk_div = document.createElement(\"div\");\n",
       "      bk_div.innerHTML = output.data[HTML_MIME_TYPE];\n",
       "      var script_attrs = bk_div.children[0].attributes;\n",
       "      for (var i = 0; i < script_attrs.length; i++) {\n",
       "        toinsert[0].firstChild.setAttribute(script_attrs[i].name, script_attrs[i].value);\n",
       "      }\n",
       "      // store reference to server id on output_area\n",
       "      output_area._bokeh_server_id = output.metadata[EXEC_MIME_TYPE][\"server_id\"];\n",
       "    }\n",
       "  }\n",
       "\n",
       "  function register_renderer(events, OutputArea) {\n",
       "\n",
       "    function append_mime(data, metadata, element) {\n",
       "      // create a DOM node to render to\n",
       "      var toinsert = this.create_output_subarea(\n",
       "        metadata,\n",
       "        CLASS_NAME,\n",
       "        EXEC_MIME_TYPE\n",
       "      );\n",
       "      this.keyboard_manager.register_events(toinsert);\n",
       "      // Render to node\n",
       "      var props = {data: data, metadata: metadata[EXEC_MIME_TYPE]};\n",
       "      render(props, toinsert[0]);\n",
       "      element.append(toinsert);\n",
       "      return toinsert\n",
       "    }\n",
       "\n",
       "    /* Handle when an output is cleared or removed */\n",
       "    events.on('clear_output.CodeCell', handleClearOutput);\n",
       "    events.on('delete.Cell', handleClearOutput);\n",
       "\n",
       "    /* Handle when a new output is added */\n",
       "    events.on('output_added.OutputArea', handleAddOutput);\n",
       "\n",
       "    /**\n",
       "     * Register the mime type and append_mime function with output_area\n",
       "     */\n",
       "    OutputArea.prototype.register_mime_type(EXEC_MIME_TYPE, append_mime, {\n",
       "      /* Is output safe? */\n",
       "      safe: true,\n",
       "      /* Index of renderer in `output_area.display_order` */\n",
       "      index: 0\n",
       "    });\n",
       "  }\n",
       "\n",
       "  // register the mime type if in Jupyter Notebook environment and previously unregistered\n",
       "  if (root.Jupyter !== undefined) {\n",
       "    var events = require('base/js/events');\n",
       "    var OutputArea = require('notebook/js/outputarea').OutputArea;\n",
       "\n",
       "    if (OutputArea.prototype.mime_types().indexOf(EXEC_MIME_TYPE) == -1) {\n",
       "      register_renderer(events, OutputArea);\n",
       "    }\n",
       "  }\n",
       "\n",
       "  \n",
       "  if (typeof (root._bokeh_timeout) === \"undefined\" || force === true) {\n",
       "    root._bokeh_timeout = Date.now() + 5000;\n",
       "    root._bokeh_failed_load = false;\n",
       "  }\n",
       "\n",
       "  var NB_LOAD_WARNING = {'data': {'text/html':\n",
       "     \"<div style='background-color: #fdd'>\\n\"+\n",
       "     \"<p>\\n\"+\n",
       "     \"BokehJS does not appear to have successfully loaded. If loading BokehJS from CDN, this \\n\"+\n",
       "     \"may be due to a slow or bad network connection. Possible fixes:\\n\"+\n",
       "     \"</p>\\n\"+\n",
       "     \"<ul>\\n\"+\n",
       "     \"<li>re-rerun `output_notebook()` to attempt to load from CDN again, or</li>\\n\"+\n",
       "     \"<li>use INLINE resources instead, as so:</li>\\n\"+\n",
       "     \"</ul>\\n\"+\n",
       "     \"<code>\\n\"+\n",
       "     \"from bokeh.resources import INLINE\\n\"+\n",
       "     \"output_notebook(resources=INLINE)\\n\"+\n",
       "     \"</code>\\n\"+\n",
       "     \"</div>\"}};\n",
       "\n",
       "  function display_loaded() {\n",
       "    var el = document.getElementById(\"954c5295-4a54-484e-9edb-de7f38f7c04c\");\n",
       "    if (el != null) {\n",
       "      el.textContent = \"BokehJS is loading...\";\n",
       "    }\n",
       "    if (root.Bokeh !== undefined) {\n",
       "      if (el != null) {\n",
       "        el.textContent = \"BokehJS \" + root.Bokeh.version + \" successfully loaded.\";\n",
       "      }\n",
       "    } else if (Date.now() < root._bokeh_timeout) {\n",
       "      setTimeout(display_loaded, 100)\n",
       "    }\n",
       "  }\n",
       "\n",
       "\n",
       "  function run_callbacks() {\n",
       "    try {\n",
       "      root._bokeh_onload_callbacks.forEach(function(callback) { callback() });\n",
       "    }\n",
       "    finally {\n",
       "      delete root._bokeh_onload_callbacks\n",
       "    }\n",
       "    console.info(\"Bokeh: all callbacks have finished\");\n",
       "  }\n",
       "\n",
       "  function load_libs(js_urls, callback) {\n",
       "    root._bokeh_onload_callbacks.push(callback);\n",
       "    if (root._bokeh_is_loading > 0) {\n",
       "      console.log(\"Bokeh: BokehJS is being loaded, scheduling callback at\", now());\n",
       "      return null;\n",
       "    }\n",
       "    if (js_urls == null || js_urls.length === 0) {\n",
       "      run_callbacks();\n",
       "      return null;\n",
       "    }\n",
       "    console.log(\"Bokeh: BokehJS not loaded, scheduling load and callback at\", now());\n",
       "    root._bokeh_is_loading = js_urls.length;\n",
       "    for (var i = 0; i < js_urls.length; i++) {\n",
       "      var url = js_urls[i];\n",
       "      var s = document.createElement('script');\n",
       "      s.src = url;\n",
       "      s.async = false;\n",
       "      s.onreadystatechange = s.onload = function() {\n",
       "        root._bokeh_is_loading--;\n",
       "        if (root._bokeh_is_loading === 0) {\n",
       "          console.log(\"Bokeh: all BokehJS libraries loaded\");\n",
       "          run_callbacks()\n",
       "        }\n",
       "      };\n",
       "      s.onerror = function() {\n",
       "        console.warn(\"failed to load library \" + url);\n",
       "      };\n",
       "      console.log(\"Bokeh: injecting script tag for BokehJS library: \", url);\n",
       "      document.getElementsByTagName(\"head\")[0].appendChild(s);\n",
       "    }\n",
       "  };var element = document.getElementById(\"954c5295-4a54-484e-9edb-de7f38f7c04c\");\n",
       "  if (element == null) {\n",
       "    console.log(\"Bokeh: ERROR: autoload.js configured with elementid '954c5295-4a54-484e-9edb-de7f38f7c04c' but no matching script tag was found. \")\n",
       "    return false;\n",
       "  }\n",
       "\n",
       "  var js_urls = [\"https://cdn.pydata.org/bokeh/release/bokeh-0.12.10.min.js\", \"https://cdn.pydata.org/bokeh/release/bokeh-widgets-0.12.10.min.js\", \"https://cdn.pydata.org/bokeh/release/bokeh-tables-0.12.10.min.js\", \"https://cdn.pydata.org/bokeh/release/bokeh-gl-0.12.10.min.js\"];\n",
       "\n",
       "  var inline_js = [\n",
       "    function(Bokeh) {\n",
       "      Bokeh.set_log_level(\"info\");\n",
       "    },\n",
       "    \n",
       "    function(Bokeh) {\n",
       "      \n",
       "    },\n",
       "    function(Bokeh) {\n",
       "      console.log(\"Bokeh: injecting CSS: https://cdn.pydata.org/bokeh/release/bokeh-0.12.10.min.css\");\n",
       "      Bokeh.embed.inject_css(\"https://cdn.pydata.org/bokeh/release/bokeh-0.12.10.min.css\");\n",
       "      console.log(\"Bokeh: injecting CSS: https://cdn.pydata.org/bokeh/release/bokeh-widgets-0.12.10.min.css\");\n",
       "      Bokeh.embed.inject_css(\"https://cdn.pydata.org/bokeh/release/bokeh-widgets-0.12.10.min.css\");\n",
       "      console.log(\"Bokeh: injecting CSS: https://cdn.pydata.org/bokeh/release/bokeh-tables-0.12.10.min.css\");\n",
       "      Bokeh.embed.inject_css(\"https://cdn.pydata.org/bokeh/release/bokeh-tables-0.12.10.min.css\");\n",
       "    }\n",
       "  ];\n",
       "\n",
       "  function run_inline_js() {\n",
       "    \n",
       "    if ((root.Bokeh !== undefined) || (force === true)) {\n",
       "      for (var i = 0; i < inline_js.length; i++) {\n",
       "        inline_js[i].call(root, root.Bokeh);\n",
       "      }if (force === true) {\n",
       "        display_loaded();\n",
       "      }} else if (Date.now() < root._bokeh_timeout) {\n",
       "      setTimeout(run_inline_js, 100);\n",
       "    } else if (!root._bokeh_failed_load) {\n",
       "      console.log(\"Bokeh: BokehJS failed to load within specified timeout.\");\n",
       "      root._bokeh_failed_load = true;\n",
       "    } else if (force !== true) {\n",
       "      var cell = $(document.getElementById(\"954c5295-4a54-484e-9edb-de7f38f7c04c\")).parents('.cell').data().cell;\n",
       "      cell.output_area.append_execute_result(NB_LOAD_WARNING)\n",
       "    }\n",
       "\n",
       "  }\n",
       "\n",
       "  if (root._bokeh_is_loading === 0) {\n",
       "    console.log(\"Bokeh: BokehJS loaded, going straight to plotting\");\n",
       "    run_inline_js();\n",
       "  } else {\n",
       "    load_libs(js_urls, function() {\n",
       "      console.log(\"Bokeh: BokehJS plotting callback run at\", now());\n",
       "      run_inline_js();\n",
       "    });\n",
       "  }\n",
       "}(window));"
      ],
      "application/vnd.bokehjs_load.v0+json": "\n(function(root) {\n  function now() {\n    return new Date();\n  }\n\n  var force = true;\n\n  if (typeof (root._bokeh_onload_callbacks) === \"undefined\" || force === true) {\n    root._bokeh_onload_callbacks = [];\n    root._bokeh_is_loading = undefined;\n  }\n\n  \n\n  \n  if (typeof (root._bokeh_timeout) === \"undefined\" || force === true) {\n    root._bokeh_timeout = Date.now() + 5000;\n    root._bokeh_failed_load = false;\n  }\n\n  var NB_LOAD_WARNING = {'data': {'text/html':\n     \"<div style='background-color: #fdd'>\\n\"+\n     \"<p>\\n\"+\n     \"BokehJS does not appear to have successfully loaded. If loading BokehJS from CDN, this \\n\"+\n     \"may be due to a slow or bad network connection. Possible fixes:\\n\"+\n     \"</p>\\n\"+\n     \"<ul>\\n\"+\n     \"<li>re-rerun `output_notebook()` to attempt to load from CDN again, or</li>\\n\"+\n     \"<li>use INLINE resources instead, as so:</li>\\n\"+\n     \"</ul>\\n\"+\n     \"<code>\\n\"+\n     \"from bokeh.resources import INLINE\\n\"+\n     \"output_notebook(resources=INLINE)\\n\"+\n     \"</code>\\n\"+\n     \"</div>\"}};\n\n  function display_loaded() {\n    var el = document.getElementById(\"954c5295-4a54-484e-9edb-de7f38f7c04c\");\n    if (el != null) {\n      el.textContent = \"BokehJS is loading...\";\n    }\n    if (root.Bokeh !== undefined) {\n      if (el != null) {\n        el.textContent = \"BokehJS \" + root.Bokeh.version + \" successfully loaded.\";\n      }\n    } else if (Date.now() < root._bokeh_timeout) {\n      setTimeout(display_loaded, 100)\n    }\n  }\n\n\n  function run_callbacks() {\n    try {\n      root._bokeh_onload_callbacks.forEach(function(callback) { callback() });\n    }\n    finally {\n      delete root._bokeh_onload_callbacks\n    }\n    console.info(\"Bokeh: all callbacks have finished\");\n  }\n\n  function load_libs(js_urls, callback) {\n    root._bokeh_onload_callbacks.push(callback);\n    if (root._bokeh_is_loading > 0) {\n      console.log(\"Bokeh: BokehJS is being loaded, scheduling callback at\", now());\n      return null;\n    }\n    if (js_urls == null || js_urls.length === 0) {\n      run_callbacks();\n      return null;\n    }\n    console.log(\"Bokeh: BokehJS not loaded, scheduling load and callback at\", now());\n    root._bokeh_is_loading = js_urls.length;\n    for (var i = 0; i < js_urls.length; i++) {\n      var url = js_urls[i];\n      var s = document.createElement('script');\n      s.src = url;\n      s.async = false;\n      s.onreadystatechange = s.onload = function() {\n        root._bokeh_is_loading--;\n        if (root._bokeh_is_loading === 0) {\n          console.log(\"Bokeh: all BokehJS libraries loaded\");\n          run_callbacks()\n        }\n      };\n      s.onerror = function() {\n        console.warn(\"failed to load library \" + url);\n      };\n      console.log(\"Bokeh: injecting script tag for BokehJS library: \", url);\n      document.getElementsByTagName(\"head\")[0].appendChild(s);\n    }\n  };var element = document.getElementById(\"954c5295-4a54-484e-9edb-de7f38f7c04c\");\n  if (element == null) {\n    console.log(\"Bokeh: ERROR: autoload.js configured with elementid '954c5295-4a54-484e-9edb-de7f38f7c04c' but no matching script tag was found. \")\n    return false;\n  }\n\n  var js_urls = [\"https://cdn.pydata.org/bokeh/release/bokeh-0.12.10.min.js\", \"https://cdn.pydata.org/bokeh/release/bokeh-widgets-0.12.10.min.js\", \"https://cdn.pydata.org/bokeh/release/bokeh-tables-0.12.10.min.js\", \"https://cdn.pydata.org/bokeh/release/bokeh-gl-0.12.10.min.js\"];\n\n  var inline_js = [\n    function(Bokeh) {\n      Bokeh.set_log_level(\"info\");\n    },\n    \n    function(Bokeh) {\n      \n    },\n    function(Bokeh) {\n      console.log(\"Bokeh: injecting CSS: https://cdn.pydata.org/bokeh/release/bokeh-0.12.10.min.css\");\n      Bokeh.embed.inject_css(\"https://cdn.pydata.org/bokeh/release/bokeh-0.12.10.min.css\");\n      console.log(\"Bokeh: injecting CSS: https://cdn.pydata.org/bokeh/release/bokeh-widgets-0.12.10.min.css\");\n      Bokeh.embed.inject_css(\"https://cdn.pydata.org/bokeh/release/bokeh-widgets-0.12.10.min.css\");\n      console.log(\"Bokeh: injecting CSS: https://cdn.pydata.org/bokeh/release/bokeh-tables-0.12.10.min.css\");\n      Bokeh.embed.inject_css(\"https://cdn.pydata.org/bokeh/release/bokeh-tables-0.12.10.min.css\");\n    }\n  ];\n\n  function run_inline_js() {\n    \n    if ((root.Bokeh !== undefined) || (force === true)) {\n      for (var i = 0; i < inline_js.length; i++) {\n        inline_js[i].call(root, root.Bokeh);\n      }if (force === true) {\n        display_loaded();\n      }} else if (Date.now() < root._bokeh_timeout) {\n      setTimeout(run_inline_js, 100);\n    } else if (!root._bokeh_failed_load) {\n      console.log(\"Bokeh: BokehJS failed to load within specified timeout.\");\n      root._bokeh_failed_load = true;\n    } else if (force !== true) {\n      var cell = $(document.getElementById(\"954c5295-4a54-484e-9edb-de7f38f7c04c\")).parents('.cell').data().cell;\n      cell.output_area.append_execute_result(NB_LOAD_WARNING)\n    }\n\n  }\n\n  if (root._bokeh_is_loading === 0) {\n    console.log(\"Bokeh: BokehJS loaded, going straight to plotting\");\n    run_inline_js();\n  } else {\n    load_libs(js_urls, function() {\n      console.log(\"Bokeh: BokehJS plotting callback run at\", now());\n      run_inline_js();\n    });\n  }\n}(window));"
     },
     "metadata": {},
     "output_type": "display_data"
    },
    {
     "data": {
      "text/html": [
       "\n",
       "<div class=\"bk-root\">\n",
       "    <div class=\"bk-plotdiv\" id=\"ac3eca74-2c4f-40a2-93ac-b8c82fa3db9b\"></div>\n",
       "</div>"
      ]
     },
     "metadata": {},
     "output_type": "display_data"
    },
    {
     "data": {
      "application/javascript": [
       "(function(root) {\n",
       "  function embed_document(root) {\n",
       "    var docs_json = {\"046bba61-bfdd-45c1-a187-ae746b2caf37\":{\"roots\":{\"references\":[{\"attributes\":{\"callback\":null,\"options\":[\"Well A (Default)\",\"Well B\",\"Well C\",\"Custom\"],\"title\":\"Well properties\"},\"id\":\"6aca5877-2d16-4b74-bd9a-ffc2bdecccd8\",\"type\":\"Select\"},{\"attributes\":{\"callback\":null,\"end\":100,\"start\":0,\"step\":0.1,\"title\":\"Kh\",\"value\":1},\"id\":\"0b65ee55-8264-4160-9c62-5ca741c4fc38\",\"type\":\"Slider\"},{\"attributes\":{\"children\":[{\"id\":\"6aca5877-2d16-4b74-bd9a-ffc2bdecccd8\",\"type\":\"Select\"},{\"id\":\"9ffdbcef-bf2e-4704-81d8-88a40fdab5a0\",\"type\":\"RadioButtonGroup\"},{\"id\":\"0b65ee55-8264-4160-9c62-5ca741c4fc38\",\"type\":\"Slider\"}],\"width\":1000},\"id\":\"fc58c3a7-02c5-4b0c-9b97-45ca1fa929f2\",\"type\":\"WidgetBox\"},{\"attributes\":{\"callback\":null,\"labels\":[\"Furui's Model\",\"Babu and Odeh (w/ Partial Penetration)\",\"Wellbore pressure drop effect\"]},\"id\":\"9ffdbcef-bf2e-4704-81d8-88a40fdab5a0\",\"type\":\"RadioButtonGroup\"}],\"root_ids\":[\"fc58c3a7-02c5-4b0c-9b97-45ca1fa929f2\"]},\"title\":\"Bokeh Application\",\"version\":\"0.12.10\"}};\n",
       "    var render_items = [{\"docid\":\"046bba61-bfdd-45c1-a187-ae746b2caf37\",\"elementid\":\"ac3eca74-2c4f-40a2-93ac-b8c82fa3db9b\",\"modelid\":\"fc58c3a7-02c5-4b0c-9b97-45ca1fa929f2\"}];\n",
       "\n",
       "    root.Bokeh.embed.embed_items(docs_json, render_items);\n",
       "  }\n",
       "\n",
       "  if (root.Bokeh !== undefined) {\n",
       "    embed_document(root);\n",
       "  } else {\n",
       "    var attempts = 0;\n",
       "    var timer = setInterval(function(root) {\n",
       "      if (root.Bokeh !== undefined) {\n",
       "        embed_document(root);\n",
       "        clearInterval(timer);\n",
       "      }\n",
       "      attempts++;\n",
       "      if (attempts > 100) {\n",
       "        console.log(\"Bokeh: ERROR: Unable to embed document because BokehJS library is missing\")\n",
       "        clearInterval(timer);\n",
       "      }\n",
       "    }, 10, root)\n",
       "  }\n",
       "})(window);"
      ],
      "application/vnd.bokehjs_exec.v0+json": ""
     },
     "metadata": {
      "application/vnd.bokehjs_exec.v0+json": {
       "id": "fc58c3a7-02c5-4b0c-9b97-45ca1fa929f2"
      }
     },
     "output_type": "display_data"
    },
    {
     "name": "stdout",
     "output_type": "stream",
     "text": [
      "1\n"
     ]
    }
   ],
   "source": [
    "from bokeh.plotting import figure \n",
    "from bokeh.io import output_notebook, show\n",
    "output_notebook()\n",
    "from bokeh.io import  show\n",
    "from bokeh.layouts import widgetbox\n",
    "from bokeh.models.widgets import Button, RadioButtonGroup, Select, Slider\n",
    "from numpy import cos, linspace\n",
    "from bokeh.models import CustomJS, ColumnDataSource, Slider\n",
    "import math \n",
    "\n",
    "x = linspace(0, 1, 100)\n",
    "\n",
    "# create some widgets\n",
    "Kh_slider = Slider(start=0, end=100, value=1, step=.1, title=\"Kh\")\n",
    "\n",
    "Kh = Kh_slider.value;\n",
    "Model_Properties = Select(options=[\"Well A (Default)\", \"Well B\", \"Well C\", \"Custom\"], title = \"Well properties\")\n",
    "select = Select(title=\"Option:\", value=\"foo\", options=[\"foo\", \"bar\", \"baz\", \"quux\"])\n",
    "Model_Selection = RadioButtonGroup(labels=[\"Furui's Model\", \"Babu and Odeh (w/ Partial Penetration)\", \"Wellbore pressure drop effect\"])\n",
    "\n",
    "# put the results in a row\n",
    "show(widgetbox (Model_Properties, Model_Selection, Kh_slider, width=1000))\n",
    "a=Model_Properties.value\n",
    "print(Kh)\n"
   ]
  },
  {
   "cell_type": "code",
   "execution_count": 3,
   "metadata": {},
   "outputs": [
    {
     "data": {
      "application/vnd.jupyter.widget-view+json": {
       "model_id": "23670b29980b4c22a57933353613c10e",
       "version_major": 2,
       "version_minor": 0
      },
      "text/plain": [
       "A Jupyter Widget"
      ]
     },
     "metadata": {},
     "output_type": "display_data"
    }
   ],
   "source": [
    "import ipywidgets as widgets\n",
    "from IPython.display import display\n",
    "Well_Config_Buttom = widgets.ToggleButtons(\n",
    "    options=['Well A (Default)', 'Well B', 'Well C','Custom'],\n",
    "    description='Well Config:',\n",
    "    disabled=False,\n",
    "    button_style='info', # 'success', 'info', 'warning', 'danger' or ''\n",
    "    tooltips=[\"Well A (Default)\", \"Well B\", \"Well C\", \"Dafult variables will require the users' input\"],\n",
    "#     icons=['check'] * 3\n",
    ")\n",
    "display(Well_Config_Buttom)"
   ]
  },
  {
   "cell_type": "code",
   "execution_count": 9,
   "metadata": {
    "scrolled": true
   },
   "outputs": [
    {
     "name": "stdout",
     "output_type": "stream",
     "text": [
      "Pleas modify well parameters manually:\n"
     ]
    },
    {
     "data": {
      "application/vnd.jupyter.widget-view+json": {
       "model_id": "ce9607b4f73349e09a6c5e32d6359506",
       "version_major": 2,
       "version_minor": 0
      },
      "text/plain": [
       "A Jupyter Widget"
      ]
     },
     "metadata": {},
     "output_type": "display_data"
    }
   ],
   "source": [
    "try:\n",
    "    from configparser import ConfigParser\n",
    "except ImportError:\n",
    "    from ConfigParser import ConfigParser  # ver. < 3.0\n",
    "def f(x):\n",
    "    return x\n",
    "\n",
    "Wellconfig = ConfigParser()\n",
    "Wellconfig.read('well_config.ini')\n",
    "\n",
    "Well_Name = 'Well A'\n",
    "if Well_Config_Buttom.value == 'Well A (Default)' :\n",
    "    print('Using default values from .Ini file')\n",
    "    kh = Wellconfig.getfloat(Well_Name, 'kh')\n",
    "    kv = Wellconfig.getfloat(Well_Name, 'kv')\n",
    "    Iani = Wellconfig.getfloat(Well_Name, 'Iani')\n",
    "    L = Wellconfig.getfloat(Well_Name, 'L')\n",
    "    Bo = Wellconfig.getfloat(Well_Name, 'B')\n",
    "    mu = Wellconfig.getfloat(Well_Name, 'mu')\n",
    "    s = Wellconfig.getfloat(Well_Name, 's')\n",
    "    rw = Wellconfig.getfloat(Well_Name, 'rw')\n",
    "    yb = Wellconfig.getfloat(Well_Name, 'yb')\n",
    "    h = Wellconfig.getfloat(Well_Name, 'h')\n",
    "    Pe = Wellconfig.getfloat(Well_Name, 'Pe')\n",
    "    Pwf = Wellconfig.getfloat(Well_Name, 'Pwf')  \n",
    "    #Write variables to a new .ini file in the working directory\n",
    "    with open('Well_profile_used.ini', 'w') as configfile: \n",
    "        Wellconfig.write(configfile)\n",
    "    #Display the inputted data to the user \n",
    "    from IPython.display import HTML, display\n",
    "    print('I am now using the following variables:')\n",
    "    data = [[Well_Name,'', ' data'  ], \n",
    "         [ '','Kh   = ', kh  ,' ' , 'Kv = ', kv],\n",
    "         [ '','Iani = ', Iani,' ' ,'L = ', L],\n",
    "         [ '','B    = ', Bo   ,' ' ,'u = ', mu],\n",
    "         [ '','s    = ', s   ,' ' ,'Rw = ', rw],\n",
    "         [ '','Yb    =', yb  ,' ' ,'h = ', h],\n",
    "         [ '','Pe    =', Pe  ,' ' ,'Pwf = ', Pwf],\n",
    "       ]\n",
    "    display(HTML(\n",
    "    '<table><tr>{}</tr></table>'.format(\n",
    "        '</tr><tr>'.join(\n",
    "            '<td>{}</td>'.format('</td><td>'.join(str(_) for _ in row)) for row in data)\n",
    "                    )))\n",
    "else:\n",
    "    print('Pleas modify well parameters manually:')\n",
    "    kh_Slider=  widgets.FloatSlider( value=10.0, min=0, max=100.0, step=0.1, description='$K_h$:', disabled=False,\n",
    "    continuous_update=False, orientation='horizontal', readout=True, readout_format='0.1f')\n",
    "    kv_Slider  = widgets.FloatSlider( description='$K_v$:', value=1.0, min=0, max=100.0, step=0.1,)\n",
    "    Iani_Slider= widgets.FloatSlider( description='$I_{ani}$:', value=3.16, min=0, max=100.0, step=0.1,)\n",
    "    #Iani_Slider.observe(handle_slider_change, names='value')\n",
    "    L_Slider   = widgets.FloatSlider( description='$L$:',   value=3000.0, min=0, max=30000.0, step=1.0,continuous_update=False)\n",
    "    Bo_Slider  = widgets.FloatSlider( description='$B_o$:', value=1.1, min=0, max=100.0, step=0.1,)\n",
    "    mu_Slider  = widgets.FloatSlider( description='$\\mu$:', value=2.0, min=0, max=100.0, step=0.1,)\n",
    "    s_Slider   = widgets.FloatSlider( description='$s$:',   value=0.0, min=0, max=100.0, step=0.1,continuous_update=False)\n",
    "    rw_Slider  = widgets.FloatSlider( description='$R_w$:', value=0.25, min=0, max=10.0, step=0.1,)\n",
    "    yb_Slider  = widgets.FloatSlider( description='$Y_b$:', value=1000.0, min=0, max=30000.0, step=0.1,)\n",
    "    h_Slider  = widgets.FloatSlider( description='$h$:',    value=100.0, min=0, max=1000.0, step=0.1,)\n",
    "    Pe_Slider  = widgets.FloatSlider( description='$P_e$:', value=1000.0, min=0, max=20000.0, step=0.1,)\n",
    "    Pwf_Slider  = widgets.FloatSlider( description='$P_{wf}$:', value=1250.0, min=0, max=20000.0, step=0.1)\n",
    "    sliders_items = [kh_Slider, kv_Slider, Iani_Slider , Bo_Slider]\n",
    "    sliders_items_2 = [ mu_Slider, s_Slider, rw_Slider, yb_Slider]\n",
    "    sliders_items_3 = [h_Slider, Pe_Slider, Pwf_Slider, ]\n",
    "    left_box = widgets.VBox(sliders_items)\n",
    "    middle_box = widgets.VBox(sliders_items_2)\n",
    "    right_box = widgets.VBox(sliders_items_3)\n",
    "    display(widgets.HBox([left_box,middle_box, right_box]))\n",
    "    \n",
    "    sliders= [kh_Slider, kv_Slider, Iani_Slider,L_Slider, Bo_Slider, mu_Slider,\n",
    "          s_Slider, rw_Slider, yb_Slider, h_Slider, Pe_Slider, Pwf_Slider ]\n",
    "    "
   ]
  },
  {
   "cell_type": "code",
   "execution_count": 5,
   "metadata": {
    "scrolled": true
   },
   "outputs": [
    {
     "data": {
      "application/vnd.jupyter.widget-view+json": {
       "model_id": "486c4989f6974a028ea6bc689a83cb6a",
       "version_major": 2,
       "version_minor": 0
      },
      "text/plain": [
       "A Jupyter Widget"
      ]
     },
     "metadata": {},
     "output_type": "display_data"
    }
   ],
   "source": [
    "def on_button_clicked(b):\n",
    "    if Well_Config_Buttom.value == 'Custom' :\n",
    "        kh   = kh_Slider.value\n",
    "        kv   = kv_Slider.value\n",
    "        Iani = Iani_Slider.value\n",
    "        L    = L_Slider.value\n",
    "        Bo   = Bo_Slider.value\n",
    "        mu   =  mu_Slider.value\n",
    "        s    = s_Slider.value\n",
    "        rw   = rw_Slider.value\n",
    "        yb   = yb_Slider.value\n",
    "        h    = h_Slider.value\n",
    "        Pe   =  Pe_Slider.value\n",
    "        Pwf  = Pwf_Slider.value\n",
    "     #Write variables to a new .ini file in the working directory\n",
    "        with open('Well_profile_used.ini', 'w') as configfile: \n",
    "            Wellconfig.write(configfile)\n",
    "        #Display the inputted data to the user \n",
    "        print('I am now using the following variables:')\n",
    "        data = [[Well_Name,'', ' data'  ], \n",
    "         [ '','Kh   = ', kh  ,' ' , 'Kv = ', kv],\n",
    "         [ '','Iani = ', Iani,' ' ,'L = ', L],\n",
    "         [ '','B    = ', Bo   ,' ' ,'u = ', mu],\n",
    "         [ '','s    = ', s   ,' ' ,'Rw = ', rw],\n",
    "         [ '','Yb    =', yb  ,' ' ,'h = ', h],\n",
    "         [ '','Pe    =', Pe  ,' ' ,'Pwf = ', Pwf],\n",
    "       ]\n",
    "        display(HTML(\n",
    "        '<table><tr>{}</tr></table>'.format(\n",
    "            '</tr><tr>'.join(\n",
    "                '<td>{}</td>'.format('</td><td>'.join(str(_) for _ in row)) for row in data)\n",
    "                    )))\n",
    "    else :\n",
    "        print('Using default values form text file')\n",
    "        \n",
    "update_bottom =widgets.Button(\n",
    "    description='Update inputs!',\n",
    "    disabled=False,\n",
    "    button_style='warning', # 'success', 'info', 'warning', 'danger' or ''\n",
    "    tooltip='Refresh inputs from sliders\" values',\n",
    "    icon='check'\n",
    "    )\n",
    "display(update_bottom)\n",
    "update_bottom.on_click(on_button_clicked)"
   ]
  },
  {
   "cell_type": "code",
   "execution_count": 6,
   "metadata": {},
   "outputs": [
    {
     "name": "stdout",
     "output_type": "stream",
     "text": [
      "Q =  3.1070633915396666 STB/D/Psi\n"
     ]
    }
   ],
   "source": [
    "import math \n",
    "k_bar = math.sqrt(kh/kv)\n",
    "# No delta P was given so, using 1 psi \n",
    "Pe = 2\n",
    "Pwf = 1\n",
    "NUM = k_bar * L * (Pe - Pwf) \n",
    "Dem_1 = 141.2 * Bo * mu \n",
    "Dem_2 = math.log( Iani / (rw * ( Iani + 1))) + (math.pi * yb)/(Iani * h) - 1.224 + s\n",
    "Q= NUM/(Dem_1*Dem_2)\n",
    "\n",
    "print('Q = ', Q, 'STB/D/Psi')"
   ]
  },
  {
   "cell_type": "code",
   "execution_count": 7,
   "metadata": {},
   "outputs": [
    {
     "data": {
      "text/html": [
       "\n",
       "<div class=\"bk-root\">\n",
       "    <div class=\"bk-plotdiv\" id=\"63aef7f4-ee08-4e0c-8e36-03b6a9a7b131\"></div>\n",
       "</div>"
      ]
     },
     "metadata": {},
     "output_type": "display_data"
    },
    {
     "data": {
      "application/javascript": [
       "(function(root) {\n",
       "  function embed_document(root) {\n",
       "    var docs_json = {\"da23fcf2-a7be-439a-b4c7-323fa15bbd67\":{\"roots\":{\"references\":[{\"attributes\":{\"overlay\":{\"id\":\"5c253b45-1cd5-42af-8d2f-e389c6fa6f0c\",\"type\":\"BoxAnnotation\"}},\"id\":\"537a81e4-e71f-4b92-aeda-3fd20d48017e\",\"type\":\"BoxZoomTool\"},{\"attributes\":{\"axis_label\":\"Qo (STB/Day)\",\"formatter\":{\"id\":\"eedaf7db-d1cc-46fe-ae1e-cde3aa9c4a3e\",\"type\":\"BasicTickFormatter\"},\"plot\":{\"id\":\"34c92649-e01c-4f78-bbe5-f24bdcb11e44\",\"subtype\":\"Figure\",\"type\":\"Plot\"},\"ticker\":{\"id\":\"4a5d5314-39bc-4742-aa59-3592b044961c\",\"type\":\"BasicTicker\"}},\"id\":\"69709236-50e8-4dd8-9752-c2a459cc0c75\",\"type\":\"LinearAxis\"},{\"attributes\":{\"below\":[{\"id\":\"d9fb6174-c760-4a25-a922-168b31cf9aff\",\"type\":\"LinearAxis\"}],\"left\":[{\"id\":\"69709236-50e8-4dd8-9752-c2a459cc0c75\",\"type\":\"LinearAxis\"}],\"plot_height\":500,\"plot_width\":800,\"renderers\":[{\"id\":\"d9fb6174-c760-4a25-a922-168b31cf9aff\",\"type\":\"LinearAxis\"},{\"id\":\"b291c27b-9d7c-4dc3-90d7-104bb8cc52f8\",\"type\":\"Grid\"},{\"id\":\"69709236-50e8-4dd8-9752-c2a459cc0c75\",\"type\":\"LinearAxis\"},{\"id\":\"ee22d594-804a-4175-a9ae-09fd6f34e4d7\",\"type\":\"Grid\"},{\"id\":\"5c253b45-1cd5-42af-8d2f-e389c6fa6f0c\",\"type\":\"BoxAnnotation\"},{\"id\":\"81879089-da5c-49fd-b60f-5c42ba2d282f\",\"type\":\"GlyphRenderer\"}],\"title\":{\"id\":\"24df9975-e0ea-497f-b9f2-7dc752c84d4b\",\"type\":\"Title\"},\"toolbar\":{\"id\":\"d9b5f493-61fc-43ca-9e18-fea896adcc0d\",\"type\":\"Toolbar\"},\"x_range\":{\"id\":\"83c447ac-63b2-4032-9d46-80d65a2ed236\",\"type\":\"DataRange1d\"},\"x_scale\":{\"id\":\"8e1addaa-4ea5-4e82-b035-6680d2571a87\",\"type\":\"LinearScale\"},\"y_range\":{\"id\":\"ae1c6d79-83b2-4230-afbd-81c52aa4d329\",\"type\":\"DataRange1d\"},\"y_scale\":{\"id\":\"61b37dff-d554-40cf-b137-51c929014e7c\",\"type\":\"LinearScale\"}},\"id\":\"34c92649-e01c-4f78-bbe5-f24bdcb11e44\",\"subtype\":\"Figure\",\"type\":\"Plot\"},{\"attributes\":{\"source\":{\"id\":\"e5ad10de-eda5-45bb-80b3-5cb85ceaafdd\",\"type\":\"ColumnDataSource\"}},\"id\":\"88014f5c-bba5-42f5-8902-222e7509585a\",\"type\":\"CDSView\"},{\"attributes\":{\"plot\":null,\"text\":\"\\u0394P vs Flow performance, Q\"},\"id\":\"24df9975-e0ea-497f-b9f2-7dc752c84d4b\",\"type\":\"Title\"},{\"attributes\":{},\"id\":\"072f6dc7-ab64-4e17-b5cf-928ad7e9f9e5\",\"type\":\"ResetTool\"},{\"attributes\":{},\"id\":\"5af8b8ae-b9c4-45a4-908d-1d62fe805844\",\"type\":\"PanTool\"},{\"attributes\":{\"fill_alpha\":{\"value\":0.5},\"fill_color\":{\"value\":\"firebrick\"},\"line_alpha\":{\"value\":0.5},\"line_color\":{\"value\":\"firebrick\"},\"size\":{\"units\":\"screen\",\"value\":7},\"x\":{\"field\":\"x\"},\"y\":{\"field\":\"y\"}},\"id\":\"ea7a3da8-8655-46de-adcb-b27a1e6e5100\",\"type\":\"Circle\"},{\"attributes\":{},\"id\":\"6aa70360-9450-4481-92f1-f0f5afa9cf7a\",\"type\":\"BasicTicker\"},{\"attributes\":{},\"id\":\"eedaf7db-d1cc-46fe-ae1e-cde3aa9c4a3e\",\"type\":\"BasicTickFormatter\"},{\"attributes\":{\"data_source\":{\"id\":\"e5ad10de-eda5-45bb-80b3-5cb85ceaafdd\",\"type\":\"ColumnDataSource\"},\"glyph\":{\"id\":\"ea7a3da8-8655-46de-adcb-b27a1e6e5100\",\"type\":\"Circle\"},\"hover_glyph\":null,\"muted_glyph\":null,\"nonselection_glyph\":{\"id\":\"2f631f7b-7de5-4a94-9a29-9c28780e6759\",\"type\":\"Circle\"},\"selection_glyph\":null,\"view\":{\"id\":\"88014f5c-bba5-42f5-8902-222e7509585a\",\"type\":\"CDSView\"}},\"id\":\"81879089-da5c-49fd-b60f-5c42ba2d282f\",\"type\":\"GlyphRenderer\"},{\"attributes\":{},\"id\":\"8e1addaa-4ea5-4e82-b035-6680d2571a87\",\"type\":\"LinearScale\"},{\"attributes\":{\"fill_alpha\":{\"value\":0.1},\"fill_color\":{\"value\":\"#1f77b4\"},\"line_alpha\":{\"value\":0.1},\"line_color\":{\"value\":\"#1f77b4\"},\"size\":{\"units\":\"screen\",\"value\":7},\"x\":{\"field\":\"x\"},\"y\":{\"field\":\"y\"}},\"id\":\"2f631f7b-7de5-4a94-9a29-9c28780e6759\",\"type\":\"Circle\"},{\"attributes\":{},\"id\":\"61ce3438-b177-4437-898d-a098220a0f71\",\"type\":\"BasicTickFormatter\"},{\"attributes\":{\"callback\":null,\"column_names\":[\"x\",\"y\"],\"data\":{\"x\":{\"__ndarray__\":\"AAAAAAAAAAAVvJyCl1MAQBW8nIKXUxBAIBrrQ2N9GEAVvJyCl1MgQBrrQ2N9aCRAIBrrQ2N9KEAlSZIkSZIsQBW8nIKXUzBAmFPwcgpeMkAa60NjfWg0QJ2Cl1PwcjZAIBrrQ2N9OECisT401oc6QCVJkiRJkjxAp+DlFLycPkAVvJyCl1NAQNaHxvrQWEFAmFPwcgpeQkBZHxrrQ2NDQBrrQ2N9aERA3LZt27ZtRUCdgpdT8HJGQF5OwcspeEdAIBrrQ2N9SEDh5RS8nIJJQKKxPjTWh0pAY31orA+NS0AlSZIkSZJMQOYUvJyCl01Ap+DlFLycTkBprA+N9aFPQBW8nIKXU1BA9qGxPjTWUEDWh8b60FhRQLdt27Zt21FAmFPwcgpeUkB4OQUvp+BSQFkfGutDY1NAOgUvp+DlU0Aa60NjfWhUQPvQWB8a61RA3LZt27ZtVUC8nIKXU/BVQJ2Cl1PwclZAfmisD431VkBeTsHLKXhXQD801ofG+ldAIBrrQ2N9WEAAAAAAAABZQA==\",\"dtype\":\"float64\",\"shape\":[50]},\"y\":{\"__ndarray__\":\"AAAAAAAAAACJpWneIF0ZQImlad4gXSlAJzzPptgFM0CJpWneIF05QOsOBBZptD9AJzzPptgFQ0DYcJzCfDFGQImlad4gXUlAO9o2+sSITEDrDgQWabRPQM+h6JgGcFFAJzzPptgFU0B/1rW0qptUQNhwnMJ8MVZAMQuD0E7HV0CJpWneIF1ZQOI/UOzy8lpAO9o2+sSIXECTdB0Ilx5eQOsOBBZptF9AolT1kR2lYEDPoeiYBnBhQPru25/vOmJAJzzPptgFY0BUicKtwdBjQH/WtbSqm2RArCOpu5NmZUDYcJzCfDFmQAS+j8ll/GZAMQuD0E7HZ0BeWHbXN5JoQImlad4gXWlAtvJc5QkoakDiP1Ds8vJqQA6NQ/PbvWtAO9o2+sSIbEBmJyoBrlNtQJN0HQiXHm5AwMEQD4DpbkDrDgQWabRvQAyuew6pP3BAolT1kR2lcEA4+24VkgpxQM+h6JgGcHFAZUhiHHvVcUD67tuf7zpyQJGVVSNkoHJAJzzPptgFc0C94kgqTWtzQA==\",\"dtype\":\"float64\",\"shape\":[50]}}},\"id\":\"e5ad10de-eda5-45bb-80b3-5cb85ceaafdd\",\"type\":\"ColumnDataSource\"},{\"attributes\":{},\"id\":\"d6ac330e-74b5-439a-8ab0-e8a66685bd5d\",\"type\":\"SaveTool\"},{\"attributes\":{\"dimension\":1,\"plot\":{\"id\":\"34c92649-e01c-4f78-bbe5-f24bdcb11e44\",\"subtype\":\"Figure\",\"type\":\"Plot\"},\"ticker\":{\"id\":\"4a5d5314-39bc-4742-aa59-3592b044961c\",\"type\":\"BasicTicker\"}},\"id\":\"ee22d594-804a-4175-a9ae-09fd6f34e4d7\",\"type\":\"Grid\"},{\"attributes\":{\"callback\":null},\"id\":\"83c447ac-63b2-4032-9d46-80d65a2ed236\",\"type\":\"DataRange1d\"},{\"attributes\":{},\"id\":\"61b37dff-d554-40cf-b137-51c929014e7c\",\"type\":\"LinearScale\"},{\"attributes\":{\"bottom_units\":\"screen\",\"fill_alpha\":{\"value\":0.5},\"fill_color\":{\"value\":\"lightgrey\"},\"left_units\":\"screen\",\"level\":\"overlay\",\"line_alpha\":{\"value\":1.0},\"line_color\":{\"value\":\"black\"},\"line_dash\":[4,4],\"line_width\":{\"value\":2},\"plot\":null,\"render_mode\":\"css\",\"right_units\":\"screen\",\"top_units\":\"screen\"},\"id\":\"5c253b45-1cd5-42af-8d2f-e389c6fa6f0c\",\"type\":\"BoxAnnotation\"},{\"attributes\":{},\"id\":\"acf38f8a-5eb2-4f2d-a02a-a163cfab6f2f\",\"type\":\"HelpTool\"},{\"attributes\":{},\"id\":\"a2fb1ac8-f807-4083-b31e-2c0eff7101d5\",\"type\":\"WheelZoomTool\"},{\"attributes\":{\"callback\":null},\"id\":\"ae1c6d79-83b2-4230-afbd-81c52aa4d329\",\"type\":\"DataRange1d\"},{\"attributes\":{\"plot\":{\"id\":\"34c92649-e01c-4f78-bbe5-f24bdcb11e44\",\"subtype\":\"Figure\",\"type\":\"Plot\"},\"ticker\":{\"id\":\"6aa70360-9450-4481-92f1-f0f5afa9cf7a\",\"type\":\"BasicTicker\"}},\"id\":\"b291c27b-9d7c-4dc3-90d7-104bb8cc52f8\",\"type\":\"Grid\"},{\"attributes\":{\"active_drag\":\"auto\",\"active_inspect\":\"auto\",\"active_scroll\":\"auto\",\"active_tap\":\"auto\",\"tools\":[{\"id\":\"5af8b8ae-b9c4-45a4-908d-1d62fe805844\",\"type\":\"PanTool\"},{\"id\":\"a2fb1ac8-f807-4083-b31e-2c0eff7101d5\",\"type\":\"WheelZoomTool\"},{\"id\":\"537a81e4-e71f-4b92-aeda-3fd20d48017e\",\"type\":\"BoxZoomTool\"},{\"id\":\"d6ac330e-74b5-439a-8ab0-e8a66685bd5d\",\"type\":\"SaveTool\"},{\"id\":\"072f6dc7-ab64-4e17-b5cf-928ad7e9f9e5\",\"type\":\"ResetTool\"},{\"id\":\"acf38f8a-5eb2-4f2d-a02a-a163cfab6f2f\",\"type\":\"HelpTool\"}]},\"id\":\"d9b5f493-61fc-43ca-9e18-fea896adcc0d\",\"type\":\"Toolbar\"},{\"attributes\":{},\"id\":\"4a5d5314-39bc-4742-aa59-3592b044961c\",\"type\":\"BasicTicker\"},{\"attributes\":{\"axis_label\":\"\\u0394P (Psi)\",\"formatter\":{\"id\":\"61ce3438-b177-4437-898d-a098220a0f71\",\"type\":\"BasicTickFormatter\"},\"plot\":{\"id\":\"34c92649-e01c-4f78-bbe5-f24bdcb11e44\",\"subtype\":\"Figure\",\"type\":\"Plot\"},\"ticker\":{\"id\":\"6aa70360-9450-4481-92f1-f0f5afa9cf7a\",\"type\":\"BasicTicker\"}},\"id\":\"d9fb6174-c760-4a25-a922-168b31cf9aff\",\"type\":\"LinearAxis\"}],\"root_ids\":[\"34c92649-e01c-4f78-bbe5-f24bdcb11e44\"]},\"title\":\"Bokeh Application\",\"version\":\"0.12.10\"}};\n",
       "    var render_items = [{\"docid\":\"da23fcf2-a7be-439a-b4c7-323fa15bbd67\",\"elementid\":\"63aef7f4-ee08-4e0c-8e36-03b6a9a7b131\",\"modelid\":\"34c92649-e01c-4f78-bbe5-f24bdcb11e44\"}];\n",
       "\n",
       "    root.Bokeh.embed.embed_items(docs_json, render_items);\n",
       "  }\n",
       "\n",
       "  if (root.Bokeh !== undefined) {\n",
       "    embed_document(root);\n",
       "  } else {\n",
       "    var attempts = 0;\n",
       "    var timer = setInterval(function(root) {\n",
       "      if (root.Bokeh !== undefined) {\n",
       "        embed_document(root);\n",
       "        clearInterval(timer);\n",
       "      }\n",
       "      attempts++;\n",
       "      if (attempts > 100) {\n",
       "        console.log(\"Bokeh: ERROR: Unable to embed document because BokehJS library is missing\")\n",
       "        clearInterval(timer);\n",
       "      }\n",
       "    }, 10, root)\n",
       "  }\n",
       "})(window);"
      ],
      "application/vnd.bokehjs_exec.v0+json": ""
     },
     "metadata": {
      "application/vnd.bokehjs_exec.v0+json": {
       "id": "34c92649-e01c-4f78-bbe5-f24bdcb11e44"
      }
     },
     "output_type": "display_data"
    }
   ],
   "source": [
    "import numpy as np \n",
    "\n",
    "delta_P= np.linspace(0, 100, 50)\n",
    "NUM = k_bar * L * (delta_P) \n",
    "Dem_1 = 141.2 * Bo * mu \n",
    "Dem_2 = math.log( Iani / (rw * ( Iani + 1))) + (math.pi * yb)/(Iani * h) - 1.224 + s\n",
    "Q= NUM/(Dem_1*Dem_2)\n",
    "\n",
    "p = figure(title = \"ΔP vs Flow performance, Q\", width=800, height=500)\n",
    "p.circle(delta_P, Q, size=7, color=\"firebrick\", alpha=0.5)\n",
    "p.xaxis.axis_label = 'ΔP (Psi)'\n",
    "p.yaxis.axis_label = 'Qo (STB/Day)'\n",
    "show(p)"
   ]
  },
  {
   "cell_type": "code",
   "execution_count": 12,
   "metadata": {},
   "outputs": [],
   "source": [
    "%matplotlib inline\n",
    "from ipywidgets import interactive\n",
    "import matplotlib.pyplot as plt\n",
    "import numpy as np\n",
    "       \n",
    "def f(kh, kv, Iani, L, Bo, mu, s, rw, yb, h, Pe, Pwf ):\n",
    "    plt.figure(2)\n",
    "    x = np.linspace(1, 100, num=10)\n",
    "    k_bar = math.sqrt(kh/kv)\n",
    "    Num_1 = (k_bar * L * x)\n",
    "    Dem_2 = (141.2 * Bo * mu )* np.log( Iani / (rw * ( Iani + 1))) + (np.pi * yb)/(Iani * h) - 1.224 + s\n",
    "    plt.plot(x, Num_1 /Dem_2 )\n",
    "    #plt.ylim(-5, 5)\n",
    "    plt.show()\n",
    "    \n",
    "interactive_plot_1 = interactive(f,  kh= sliders[0], kv = sliders[1], Iani =sliders[2], \n",
    "                                   L = sliders[3], mu = sliders[4], Bo = sliders[5], \n",
    "                                   s = sliders[6], rw = sliders[7], yb =  sliders[8],\n",
    "                                   h = sliders[9], Pe = sliders[10], Pwf=sliders[11])    \n",
    "\n",
    "output_1 = interactive_plot_1.children[-1]\n"
   ]
  },
  {
   "cell_type": "code",
   "execution_count": 13,
   "metadata": {},
   "outputs": [
    {
     "data": {
      "application/vnd.jupyter.widget-view+json": {
       "model_id": "ec3576444b0a4279800e17de21e861ff",
       "version_major": 2,
       "version_minor": 0
      },
      "text/plain": [
       "A Jupyter Widget"
      ]
     },
     "metadata": {},
     "output_type": "display_data"
    },
    {
     "data": {
      "text/plain": [
       "<matplotlib.figure.Figure at 0x19e9eb23630>"
      ]
     },
     "metadata": {},
     "output_type": "display_data"
    },
    {
     "data": {
      "text/plain": [
       "<matplotlib.figure.Figure at 0x19e9eea0748>"
      ]
     },
     "metadata": {},
     "output_type": "display_data"
    },
    {
     "data": {
      "text/plain": [
       "<matplotlib.figure.Figure at 0x19e9e5daac8>"
      ]
     },
     "metadata": {},
     "output_type": "display_data"
    },
    {
     "data": {
      "text/plain": [
       "<matplotlib.figure.Figure at 0x19e9e5da208>"
      ]
     },
     "metadata": {},
     "output_type": "display_data"
    }
   ],
   "source": [
    "output_1.layout.height = '800px'\n",
    "\n",
    "interactive_plot_1"
   ]
  },
  {
   "cell_type": "code",
   "execution_count": 15,
   "metadata": {},
   "outputs": [
    {
     "data": {
      "application/vnd.jupyter.widget-view+json": {
       "model_id": "5ad75d76bb894581bb86d1218aed71b7",
       "version_major": 2,
       "version_minor": 0
      },
      "text/plain": [
       "A Jupyter Widget"
      ]
     },
     "metadata": {},
     "output_type": "display_data"
    },
    {
     "data": {
      "text/plain": [
       "<function __main__.fBokeh>"
      ]
     },
     "execution_count": 15,
     "metadata": {},
     "output_type": "execute_result"
    }
   ],
   "source": [
    "from bokeh.plotting import figure, output_file, show\n",
    "import numpy as np\n",
    "from __future__ import print_function\n",
    "from ipywidgets import interact, interactive, fixed, interact_manual\n",
    "import ipywidgets as widgets\n",
    "x = np.linspace(1, 100, num=10)\n",
    "\n",
    "def fBokeh(kh, kv, Iani, L, Bo, mu, s, rw, yb, h, Pe, Pwf ):\n",
    "    k_bar = math.sqrt(kh/kv)\n",
    "    Num_1 = (k_bar * L * x)\n",
    "    Dem_2 = (141.2 * Bo * mu )* np.log( Iani / (rw * ( Iani + 1))) + (np.pi * yb)/(Iani * h) - 1.224 + s\n",
    "    \n",
    "    XX = x\n",
    "    YY = Num_1/Dem_2\n",
    "    PI = x/YY\n",
    "    p = figure(plot_width=400, plot_height=400)\n",
    "\n",
    "    # add both a line and circles on the same plot\n",
    "    p.line(XX, PI, line_width=2)\n",
    "    p.circle(XX, PI, fill_color=\"white\", size=8)\n",
    "    show(p)\n",
    "\n",
    "\n",
    "interactive_plot = interact(fBokeh,  kh= sliders[0], kv = sliders[1], Iani =sliders[2], \n",
    "                                   L = sliders[3], mu = sliders[4], Bo = sliders[5], \n",
    "                                   s = sliders[6], rw = sliders[7], yb =  sliders[8],\n",
    "                                   h = sliders[9], Pe = sliders[10], Pwf=sliders[11],continuous_update=False)    \n",
    "#output = interactive_plot.children[-1]\n",
    "interactive_plot"
   ]
  },
  {
   "cell_type": "code",
   "execution_count": null,
   "metadata": {},
   "outputs": [],
   "source": [
    "from bokeh.layouts import column\n",
    "from bokeh.models import CustomJS, ColumnDataSource, Slider\n",
    "from bokeh.plotting import Figure, output_file, show\n",
    "from bokeh.plotting import figure \n",
    "from bokeh.io import output_notebook, show\n",
    "output_notebook()\n",
    "\n",
    "x = [x*1 for x in range(0, 200)]\n",
    "\n",
    "\n",
    "\n",
    "y = x\n",
    "z=x\n",
    "\n",
    "k_bar = math.sqrt(kh*kv/kv+kh)\n",
    "\n",
    "source = ColumnDataSource(data=dict(x=x, y=y))\n",
    "\n",
    "source2 = ColumnDataSource(data=dict(x=x, y=y, z=z))\n",
    "\n",
    "plot = Figure(plot_width=400, plot_height=400)\n",
    "plot.line('x', 'y', source=source, line_width=3, line_alpha=0.6)\n",
    "\n",
    "\n",
    "\n",
    "\n",
    "NUM = k_bar * L * (Pe - Pwf) \n",
    "Dem_1 = 141.2 * Bo * mu \n",
    "Dem_2 = math.log( Iani*h / (rw * ( Iani + 1))) + (math.pi * yb)/(Iani * h) - 1.224 + s\n",
    "Q = k_bar * L * (50) /(Dem_1*Dem_2)\n",
    "\n",
    "print(NUM)\n",
    "print(Dem_1)\n",
    "print(Dem_2)\n",
    "\n",
    "\n",
    "callback = CustomJS(args=dict(source=source), code=\"\"\"\n",
    "    var data = source.data;\n",
    "    var k_bar  = Math.sqrt(10)\n",
    "    var L = 3200\n",
    "    var Pe = 2\n",
    "    var Pwf = 1\n",
    "    var Bo = 1.1\n",
    "    var s = 0.0 \n",
    "    var Yb = 500.0\n",
    "    var Pe = 1000.0\n",
    "    var Rw = 0.25 \n",
    "    var h = 100 \n",
    "    var u = 2.0 \n",
    "\n",
    "    var Dem_1 = 141.2 * Bo * u \n",
    "    var Iani = cb_obj.value\n",
    "    var Dem_2 = Math.log( Iani / (Rw * ( Iani + 1))) + (Math.PI * Yb)/(Iani * h) - 1.224 + s\n",
    "\n",
    "    x = data['x']\n",
    "    y = data['y']\n",
    "    for (i = 0; i < x.length; i++) {\n",
    "    Dem_2 = Math.log( Iani / (Rw * ( Iani))) + (Math.PI * Yb)/(Iani * h) - 1.224 + s\n",
    "        y[i] =  1/x[i] * (k_bar * L ) /( Dem_1 * Dem_2) \n",
    "    \n",
    "}\n",
    "    source.change.emit();\n",
    "\"\"\")\n",
    "\n",
    "slider = Slider(start=0.01, end= 10, value=1, step= 0.1, title=\"Iani\")\n",
    "slider.js_on_change('value', callback)\n",
    "\n",
    "\n",
    "layout = column(slider, plot)\n",
    "\n",
    "show(layout)"
   ]
  },
  {
   "cell_type": "code",
   "execution_count": null,
   "metadata": {},
   "outputs": [],
   "source": [
    "a = widgets.IntSlider()\n",
    "b = widgets.IntSlider()\n",
    "c = widgets.IntSlider()\n",
    "ui = widgets.HBox([a, b, c])\n",
    "def f(a, b, c):\n",
    "    print((a, b, c))\n",
    "\n",
    "out = widgets.interactive_output(f, {'a': a, 'b': b, 'c': c})\n",
    "\n",
    "display(ui, out)"
   ]
  },
  {
   "cell_type": "markdown",
   "metadata": {},
   "source": [
    "### References\n",
    "\n",
    "\n",
    "-  [1]  Hill, A.D., et al. Multilateral Wells, Society of Petroleum Engineers, 2007. ProQuest Ebook Central, [tamu.library.com](https://ebookcentral.proquest.com.ezproxy.library.tamu.edu/lib/tamucs/detail.action?docID=3404994).\n"
   ]
  },
  {
   "cell_type": "code",
   "execution_count": null,
   "metadata": {},
   "outputs": [],
   "source": [
    "%matplotlib inline\n",
    "from ipywidgets import interactive\n",
    "import matplotlib.pyplot as plt\n",
    "import numpy as np\n",
    "\n",
    "def f(m, b):\n",
    "    plt.figure(2)\n",
    "    x = np.linspace(-10, 10, num=1000)\n",
    "    plt.plot(x, m * x + b)\n",
    "    plt.ylim(-5, 5)\n",
    "    plt.show()\n",
    "\n",
    "interactive_plot = interactive(f, m=(-2.0, 2.0), b=(-3, 3, 0.5))\n",
    "output = interactive_plot.children[-1]\n",
    "output.layout.height = '350px'\n",
    "interactive_plot"
   ]
  }
 ],
 "metadata": {
  "celltoolbar": "Edit Metadata",
  "kernelspec": {
   "display_name": "Python 3",
   "language": "python",
   "name": "python3"
  },
  "language_info": {
   "codemirror_mode": {
    "name": "ipython",
    "version": 3
   },
   "file_extension": ".py",
   "mimetype": "text/x-python",
   "name": "python",
   "nbconvert_exporter": "python",
   "pygments_lexer": "ipython3",
   "version": "3.6.3"
  }
 },
 "nbformat": 4,
 "nbformat_minor": 2
}
